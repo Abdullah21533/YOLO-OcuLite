!mkdir -p {HOME}/datasets
%cd {HOME}/datasets

!pip install roboflow --quiet

import os
from roboflow import Roboflow

# Make sure you set the environment variable before running:
# os.environ["ROBOFLOW_API_KEY"] = "your_api_key_here"

rf = Roboflow(api_key=os.environ["ROBOFLOW_API_KEY"])
project = rf.workspace("aitech-a6cge").project("cpe-dataset")
version = project.version(16)
dataset = version.download("yolov8")

